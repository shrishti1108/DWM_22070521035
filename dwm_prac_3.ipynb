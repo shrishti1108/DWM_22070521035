{
  "nbformat": 4,
  "nbformat_minor": 0,
  "metadata": {
    "colab": {
      "provenance": []
    },
    "kernelspec": {
      "name": "python3",
      "display_name": "Python 3"
    },
    "language_info": {
      "name": "python"
    }
  },
  "cells": [
    {
      "cell_type": "code",
      "source": [
        "import numpy as pd\n",
        "import pandas as pd"
      ],
      "metadata": {
        "id": "BaIu9uwpchFd"
      },
      "execution_count": null,
      "outputs": []
    },
    {
      "cell_type": "code",
      "execution_count": null,
      "metadata": {
        "id": "QIeAKcCYbIca"
      },
      "outputs": [],
      "source": [
        "data = {\n",
        "    'ID' : [101, 102, 103, 104, 105],\n",
        "    'Name': ['Reyansh', 'Aarav', 'Shivani', 'Yuvraj', 'Kavya'],\n",
        "    'Age': [27, 28, 24, 22, 21],\n",
        "    'State': ['Rajasthan', 'Maharashtra', 'MP', 'Karnataka','UP'],\n",
        "    'Sales': [200, 450, 190, 350, 240]\n",
        "}"
      ]
    },
    {
      "cell_type": "code",
      "source": [
        "#create dataframe\n",
        "df = pd.DataFrame(data)\n",
        "print(\"Original Dataset\")\n",
        "print(df)"
      ],
      "metadata": {
        "colab": {
          "base_uri": "https://localhost:8080/"
        },
        "id": "b2CEH8CscYra",
        "outputId": "bb755db8-6dfe-4cab-d8c8-57d07a9d97d9"
      },
      "execution_count": null,
      "outputs": [
        {
          "output_type": "stream",
          "name": "stdout",
          "text": [
            "Original Dataset\n",
            "    ID     Name  Age        State  Sales\n",
            "0  101  Reyansh   27    Rajasthan    200\n",
            "1  102    Aarav   28  Maharashtra    450\n",
            "2  103  Shivani   24           MP    190\n",
            "3  104   Yuvraj   22    Karnataka    350\n",
            "4  105    Kavya   21           UP    240\n"
          ]
        }
      ]
    },
    {
      "cell_type": "code",
      "source": [
        "#Dataflow transformation"
      ],
      "metadata": {
        "id": "1H7ZsdnOcyBQ"
      },
      "execution_count": null,
      "outputs": []
    },
    {
      "cell_type": "code",
      "source": [
        "#1. character map\n",
        "#description : Transform text data by changing the characters"
      ],
      "metadata": {
        "id": "2eaEQ5XydBbX"
      },
      "execution_count": null,
      "outputs": []
    },
    {
      "cell_type": "code",
      "source": [
        "#character map: Convert 'Name' to upper case\n",
        "df['Name_Upper'] = df['Name'].str.upper()\n",
        "print(\"\\nCharacter Map (Uppercase Names): \")\n",
        "print(df[['Name', 'Name_Upper']])"
      ],
      "metadata": {
        "colab": {
          "base_uri": "https://localhost:8080/"
        },
        "id": "ZJGm9DNpdNk2",
        "outputId": "afed9184-6230-46d7-f3f9-c02ace643fe8"
      },
      "execution_count": null,
      "outputs": [
        {
          "output_type": "stream",
          "name": "stdout",
          "text": [
            "\n",
            "Character Map (Uppercase Names): \n",
            "      Name Name_Upper\n",
            "0  Reyansh    REYANSH\n",
            "1    Aarav      AARAV\n",
            "2  Shivani    SHIVANI\n",
            "3   Yuvraj     YUVRAJ\n",
            "4    Kavya      KAVYA\n"
          ]
        }
      ]
    },
    {
      "cell_type": "code",
      "source": [
        "#2.\n",
        "df_copy1=df.copy()\n",
        "df_copy2=df.copy()\n",
        "\n",
        "df_copy1['Sales'] *= 1.1\n",
        "df_copy2['Age'] += 5\n",
        "\n",
        "print(\"\\nMulticast (Modified Copies):\")\n",
        "print(\"Copy 1 (Sales Increased):\")\n",
        "print(df_copy1)\n",
        "print(\"\\nCopy 2 (Age Increased):\")\n",
        "print(df_copy2)"
      ],
      "metadata": {
        "colab": {
          "base_uri": "https://localhost:8080/"
        },
        "id": "TfRXzKIzd6Bn",
        "outputId": "9fd7ed67-85f9-47a5-c80b-2e1c7503c8cb"
      },
      "execution_count": null,
      "outputs": [
        {
          "output_type": "stream",
          "name": "stdout",
          "text": [
            "\n",
            "Multicast (Modified Copies):\n",
            "Copy 1 (Sales Increased):\n",
            "    ID     Name  Age        State  Sales Name_Upper\n",
            "0  101  Reyansh   27    Rajasthan  220.0    REYANSH\n",
            "1  102    Aarav   28  Maharashtra  495.0      AARAV\n",
            "2  103  Shivani   24           MP  209.0    SHIVANI\n",
            "3  104   Yuvraj   22    Karnataka  385.0     YUVRAJ\n",
            "4  105    Kavya   21           UP  264.0      KAVYA\n",
            "\n",
            "Copy 2 (Age Increased):\n",
            "    ID     Name  Age        State  Sales Name_Upper\n",
            "0  101  Reyansh   32    Rajasthan    200    REYANSH\n",
            "1  102    Aarav   33  Maharashtra    450      AARAV\n",
            "2  103  Shivani   29           MP    190    SHIVANI\n",
            "3  104   Yuvraj   27    Karnataka    350     YUVRAJ\n",
            "4  105    Kavya   26           UP    240      KAVYA\n"
          ]
        }
      ]
    },
    {
      "cell_type": "code",
      "source": [
        "#3. Conditional Split: Sales > 300\n",
        "high_sales = df[df['Sales'] > 300]\n",
        "low_sales = df[df['Sales'] <= 300]\n",
        "\n",
        "print(\"\\nConditional Split:\")\n",
        "print(\"High Sales: \")\n",
        "print(high_sales)\n",
        "print(\"\\nLow Sales:\")\n",
        "print(low_sales)"
      ],
      "metadata": {
        "colab": {
          "base_uri": "https://localhost:8080/"
        },
        "id": "XVYOw5wShIaZ",
        "outputId": "5886ec33-f2aa-4995-cfa6-82bc6d784f6d"
      },
      "execution_count": null,
      "outputs": [
        {
          "output_type": "stream",
          "name": "stdout",
          "text": [
            "\n",
            "Conditional Split:\n",
            "High Sales: \n",
            "    ID    Name  Age        State  Sales Name_Upper\n",
            "1  102   Aarav   28  Maharashtra    450      AARAV\n",
            "3  104  Yuvraj   22    Karnataka    350     YUVRAJ\n",
            "\n",
            "Low Sales:\n",
            "    ID     Name  Age      State  Sales Name_Upper\n",
            "0  101  Reyansh   27  Rajasthan    200    REYANSH\n",
            "2  103  Shivani   24         MP    190    SHIVANI\n",
            "4  105    Kavya   21         UP    240      KAVYA\n"
          ]
        }
      ]
    },
    {
      "cell_type": "code",
      "source": [
        "#4. Aggregation\n",
        "#Description: Aggregate data, e.g.,calculate total sales by country\n",
        "#Aggregation: Total sales by state\n",
        "agg_df = df.groupby('State')['Sales'].sum().reset_index()\n",
        "print(\"\\nAggregation (Total Sales by State):\")\n",
        "print(agg_df)"
      ],
      "metadata": {
        "colab": {
          "base_uri": "https://localhost:8080/"
        },
        "id": "LKJaR93imvCh",
        "outputId": "6e031467-d07f-4c88-fc01-b24b37eddf70"
      },
      "execution_count": null,
      "outputs": [
        {
          "output_type": "stream",
          "name": "stdout",
          "text": [
            "\n",
            "Aggregation (Total Sales by State):\n",
            "         State  Sales\n",
            "0    Karnataka    350\n",
            "1           MP    190\n",
            "2  Maharashtra    450\n",
            "3    Rajasthan    200\n",
            "4           UP    240\n"
          ]
        }
      ]
    },
    {
      "cell_type": "code",
      "source": [
        "#5. Sort\n",
        "#Description: Sort the dataset by Sales in descending order.\n",
        "#Sort: Sort by Sales in descending order\n",
        "sorted_df = df.sort_values(by='Sales', ascending=False)\n",
        "print(\"\\nSort (Descending Sales):\")\n",
        "print(sorted_df)"
      ],
      "metadata": {
        "colab": {
          "base_uri": "https://localhost:8080/"
        },
        "id": "qANkJMZ2nseb",
        "outputId": "6439c1fb-edaf-4e02-d9b4-1a1259388088"
      },
      "execution_count": null,
      "outputs": [
        {
          "output_type": "stream",
          "name": "stdout",
          "text": [
            "\n",
            "Sort (Descending Sales):\n",
            "    ID     Name  Age        State  Sales Name_Upper\n",
            "1  102    Aarav   28  Maharashtra    450      AARAV\n",
            "3  104   Yuvraj   22    Karnataka    350     YUVRAJ\n",
            "4  105    Kavya   21           UP    240      KAVYA\n",
            "0  101  Reyansh   27    Rajasthan    200    REYANSH\n",
            "2  103  Shivani   24           MP    190    SHIVANI\n"
          ]
        }
      ]
    },
    {
      "cell_type": "code",
      "source": [
        "#6. Derived Column\n",
        "#Description: Create a new column by deriving information from existing data."
      ],
      "metadata": {
        "id": "FXw4WdQLoW98"
      },
      "execution_count": null,
      "outputs": []
    },
    {
      "cell_type": "code",
      "source": [
        "#Derived Column: Categories sales as 'High' or 'Low'\n",
        "df['Sales_Category'] = df['Sales'].apply(lambda x: 'High' if x > 300 else 'Low')\n",
        "print(\"\\nDerived Column (Sales Categories):\")\n",
        "print(df[['ID', 'Name', 'Sales', 'Sales_Category']])"
      ],
      "metadata": {
        "colab": {
          "base_uri": "https://localhost:8080/"
        },
        "id": "PLqQhpLJo51R",
        "outputId": "7409f6c1-7ae3-4033-ebe8-dc4baa791321"
      },
      "execution_count": null,
      "outputs": [
        {
          "output_type": "stream",
          "name": "stdout",
          "text": [
            "\n",
            "Derived Column (Sales Categories):\n",
            "    ID     Name  Sales Sales_Category\n",
            "0  101  Reyansh    200            Low\n",
            "1  102    Aarav    450           High\n",
            "2  103  Shivani    190            Low\n",
            "3  104   Yuvraj    350           High\n",
            "4  105    Kavya    240            Low\n"
          ]
        }
      ]
    }
  ]
}