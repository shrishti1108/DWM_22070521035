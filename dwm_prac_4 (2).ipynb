{
  "nbformat": 4,
  "nbformat_minor": 0,
  "metadata": {
    "colab": {
      "provenance": []
    },
    "kernelspec": {
      "name": "python3",
      "display_name": "Python 3"
    },
    "language_info": {
      "name": "python"
    }
  },
  "cells": [
    {
      "cell_type": "markdown",
      "source": [
        "**Apriori Algorithm** in Python-Market Basket Analysis\n",
        "\n",
        "**Problem Statement** : The manager of a retail store is trying to find out an association rule between six items, to figure out which items are more often bought together so that he can keep the items together in order to increase sales"
      ],
      "metadata": {
        "id": "tI4Zc8-QlJT0"
      }
    },
    {
      "cell_type": "code",
      "source": [
        "!pip install apyori"
      ],
      "metadata": {
        "colab": {
          "base_uri": "https://localhost:8080/"
        },
        "id": "wmJ3DT7ZlOPC",
        "outputId": "8cf0b68d-f1f4-41b7-8fd8-53ffcf1c6d62"
      },
      "execution_count": null,
      "outputs": [
        {
          "output_type": "stream",
          "name": "stdout",
          "text": [
            "Collecting apyori\n",
            "  Downloading apyori-1.1.2.tar.gz (8.6 kB)\n",
            "  Preparing metadata (setup.py) ... \u001b[?25l\u001b[?25hdone\n",
            "Building wheels for collected packages: apyori\n",
            "  Building wheel for apyori (setup.py) ... \u001b[?25l\u001b[?25hdone\n",
            "  Created wheel for apyori: filename=apyori-1.1.2-py3-none-any.whl size=5954 sha256=8474d8839e9b41e1ca5042010eda54e8626be58deee6629f197a594c192f3187\n",
            "  Stored in directory: /root/.cache/pip/wheels/77/3d/a6/d317a6fb32be58a602b1e8c6b5d6f31f79322da554cad2a5ea\n",
            "Successfully built apyori\n",
            "Installing collected packages: apyori\n",
            "Successfully installed apyori-1.1.2\n"
          ]
        }
      ]
    },
    {
      "cell_type": "code",
      "source": [
        "import numpy as np\n",
        "import pandas as pd\n",
        "from apyori import apriori"
      ],
      "metadata": {
        "id": "hjOT_ge7l5Hh"
      },
      "execution_count": null,
      "outputs": []
    },
    {
      "cell_type": "code",
      "source": [
        "store_data = pd.read_csv('/Day1.csv',header=None)"
      ],
      "metadata": {
        "id": "ohQfqhbqmCAU"
      },
      "execution_count": null,
      "outputs": []
    },
    {
      "cell_type": "code",
      "source": [
        "print(store_data)"
      ],
      "metadata": {
        "colab": {
          "base_uri": "https://localhost:8080/"
        },
        "id": "DsExsZ1HnD7D",
        "outputId": "57470fb9-156d-4c8d-b6eb-685c17bda644"
      },
      "execution_count": null,
      "outputs": [
        {
          "output_type": "stream",
          "name": "stdout",
          "text": [
            "       0      1      2       3     4      5\n",
            "0   Wine  Chips  Bread  Butter  Milk  Apple\n",
            "1   Wine    NaN  Bread  Butter  Milk    NaN\n",
            "2    NaN    NaN  Bread  Butter  Milk    NaN\n",
            "3    NaN  Chips    NaN     NaN   NaN  Apple\n",
            "4   Wine  Chips  Bread  Butter  Milk  Apple\n",
            "5   Wine  Chips    NaN     NaN  Milk    NaN\n",
            "6   Wine  Chips  Bread  Butter   NaN  Apple\n",
            "7   Wine  Chips    NaN     NaN  Milk    NaN\n",
            "8   Wine    NaN  Bread     NaN   NaN  Apple\n",
            "9   Wine    NaN  Bread  Butter  Milk    NaN\n",
            "10   NaN  Chips  Bread  Butter   NaN  Apple\n",
            "11  Wine    NaN    NaN  Butter  Milk  Apple\n",
            "12  Wine  Chips  Bread  Butter  Milk    NaN\n",
            "13  Wine    NaN  Bread     NaN  Milk  Apple\n",
            "14  Wine    NaN  Bread  Butter  Milk  Apple\n",
            "15  Wine  Chips  Bread  Butter  Milk  Apple\n",
            "16   NaN  Chips  Bread  Butter  Milk  Apple\n",
            "17   NaN  Chips    NaN  Butter  Milk  Apple\n",
            "18  Wine  Chips  Bread  Butter  Milk  Apple\n",
            "19  Wine    NaN  Bread  Butter  Milk  Apple\n",
            "20  Wine  Chips  Bread     NaN  Milk  Apple\n",
            "21   NaN  Chips    NaN     NaN   NaN    NaN\n"
          ]
        }
      ]
    },
    {
      "cell_type": "code",
      "source": [
        "#find the shape of the dataset\n",
        "store_data.shape"
      ],
      "metadata": {
        "colab": {
          "base_uri": "https://localhost:8080/"
        },
        "id": "v8tMKtO2nfxp",
        "outputId": "7c447a14-fbfe-407e-d23c-7be73fc4db3a"
      },
      "execution_count": null,
      "outputs": [
        {
          "output_type": "execute_result",
          "data": {
            "text/plain": [
              "(22, 6)"
            ]
          },
          "metadata": {},
          "execution_count": 10
        }
      ]
    },
    {
      "cell_type": "markdown",
      "source": [
        "**Convert the pandas dataframe into a List  of list**"
      ],
      "metadata": {
        "id": "rrNg48PuoOXk"
      }
    },
    {
      "cell_type": "code",
      "source": [
        "records = []\n",
        "for i in range(0,22):\n",
        "  records.append([str(store_data.values[i,j]) for j in range(0,6)])"
      ],
      "metadata": {
        "id": "JlkKr7GynjhA"
      },
      "execution_count": null,
      "outputs": []
    },
    {
      "cell_type": "code",
      "source": [
        "records"
      ],
      "metadata": {
        "colab": {
          "base_uri": "https://localhost:8080/"
        },
        "id": "AF_TaigkohPx",
        "outputId": "cee21eb1-2646-44db-93c1-28da8d09ccb7"
      },
      "execution_count": null,
      "outputs": [
        {
          "output_type": "execute_result",
          "data": {
            "text/plain": [
              "[['Wine', 'Chips', 'Bread', 'Butter', 'Milk', 'Apple'],\n",
              " ['Wine', 'nan', 'Bread', 'Butter', 'Milk', 'nan'],\n",
              " ['nan', 'nan', 'Bread', 'Butter', 'Milk', 'nan'],\n",
              " ['nan', 'Chips', 'nan', 'nan', 'nan', 'Apple'],\n",
              " ['Wine', 'Chips', 'Bread', 'Butter', 'Milk', 'Apple'],\n",
              " ['Wine', 'Chips', 'nan', 'nan', 'Milk', 'nan'],\n",
              " ['Wine', 'Chips', 'Bread', 'Butter', 'nan', 'Apple'],\n",
              " ['Wine', 'Chips', 'nan', 'nan', 'Milk', 'nan'],\n",
              " ['Wine', 'nan', 'Bread', 'nan', 'nan', 'Apple'],\n",
              " ['Wine', 'nan', 'Bread', 'Butter', 'Milk', 'nan'],\n",
              " ['nan', 'Chips', 'Bread', 'Butter', 'nan', 'Apple'],\n",
              " ['Wine', 'nan', 'nan', 'Butter', 'Milk', 'Apple'],\n",
              " ['Wine', 'Chips', 'Bread', 'Butter', 'Milk', 'nan'],\n",
              " ['Wine', 'nan', 'Bread', 'nan', 'Milk', 'Apple'],\n",
              " ['Wine', 'nan', 'Bread', 'Butter', 'Milk', 'Apple'],\n",
              " ['Wine', 'Chips', 'Bread', 'Butter', 'Milk', 'Apple'],\n",
              " ['nan', 'Chips', 'Bread', 'Butter', 'Milk', 'Apple'],\n",
              " ['nan', 'Chips', 'nan', 'Butter', 'Milk', 'Apple'],\n",
              " ['Wine', 'Chips', 'Bread', 'Butter', 'Milk', 'Apple'],\n",
              " ['Wine', 'nan', 'Bread', 'Butter', 'Milk', 'Apple'],\n",
              " ['Wine', 'Chips', 'Bread', 'nan', 'Milk', 'Apple'],\n",
              " ['nan', 'Chips', 'nan', 'nan', 'nan', 'nan']]"
            ]
          },
          "metadata": {},
          "execution_count": 12
        }
      ]
    },
    {
      "cell_type": "markdown",
      "source": [
        "**Build the Apriori Model**"
      ],
      "metadata": {
        "id": "XA9G6SsOpRCD"
      }
    },
    {
      "cell_type": "code",
      "source": [
        "#Building the first Apriori Model\n",
        "association_rules = apriori(records,min_support=0.50,min_confidence=0.7,min_lift=1.2,min_length=2)\n",
        "association_results = list(association_rules)"
      ],
      "metadata": {
        "id": "pqYBxvvipUhW"
      },
      "execution_count": null,
      "outputs": []
    },
    {
      "cell_type": "code",
      "source": [
        "#print the number of rules\n",
        "print(len(association_results))"
      ],
      "metadata": {
        "colab": {
          "base_uri": "https://localhost:8080/"
        },
        "id": "5QyCK61TpfsL",
        "outputId": "e603852f-cd13-4def-b00a-e160e34ff923"
      },
      "execution_count": null,
      "outputs": [
        {
          "output_type": "stream",
          "name": "stdout",
          "text": [
            "1\n"
          ]
        }
      ]
    },
    {
      "cell_type": "code",
      "source": [
        "#have a glance at the rules\n",
        "print(association_results)"
      ],
      "metadata": {
        "colab": {
          "base_uri": "https://localhost:8080/"
        },
        "id": "69cnqUqUpkpU",
        "outputId": "8f22f238-1475-4a61-d2ca-cb38280f15a4"
      },
      "execution_count": null,
      "outputs": [
        {
          "output_type": "stream",
          "name": "stdout",
          "text": [
            "[RelationRecord(items=frozenset({'Bread', 'Milk', 'Butter'}), support=0.5, ordered_statistics=[OrderedStatistic(items_base=frozenset({'Butter'}), items_add=frozenset({'Bread', 'Milk'}), confidence=0.7333333333333334, lift=1.241025641025641), OrderedStatistic(items_base=frozenset({'Bread', 'Milk'}), items_add=frozenset({'Butter'}), confidence=0.8461538461538461, lift=1.241025641025641)])]\n"
          ]
        }
      ]
    },
    {
      "cell_type": "markdown",
      "source": [
        "**The support value for the first rule is 0.5**. This number is calculated by dividing the number of transactions containing 'Milk', 'Bread' , and 'Butter' by the total number of transactions."
      ],
      "metadata": {
        "id": "4p2WDYE8tLF8"
      }
    },
    {
      "cell_type": "markdown",
      "source": [
        "**The confidence level for the rule is 0.846**, which shows that out of all the transactions that contain both 'Milk' and 'Bread', 84.6% contain 'butter' too."
      ],
      "metadata": {
        "id": "vKt4LWLVtMiP"
      }
    },
    {
      "cell_type": "markdown",
      "source": [
        "**The lift of 1.241 tells us tha 'butter' is 1.241 times more likely to be bought by the customers who buy both 'milk' and 'butter' compared to the default likeihood sale of 'butter'.**"
      ],
      "metadata": {
        "id": "jAby8sKrtPyj"
      }
    },
    {
      "cell_type": "code",
      "source": [],
      "metadata": {
        "id": "lTEZjW6ttSwc"
      },
      "execution_count": null,
      "outputs": []
    }
  ]
}